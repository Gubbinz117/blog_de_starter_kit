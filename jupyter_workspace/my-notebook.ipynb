{
 "cells": [
  {
   "cell_type": "code",
   "execution_count": null,
   "id": "1fbc5516-bfb0-4871-8095-a21544401d07",
   "metadata": {},
   "outputs": [],
   "source": [
    "%pip install mysql-connector-python\n",
    "%pip install pandas\n",
    "%pip install plotly"
   ]
  },
  {
   "cell_type": "code",
   "execution_count": null,
   "id": "00fbce7d-f6d4-480a-9bb6-0b693068ce19",
   "metadata": {},
   "outputs": [],
   "source": [
    "import mysql.connector as connection\n",
    "import pandas as pd\n",
    "try:\n",
    "    mydb = connection.connect(host=\"mysql-db\", database = 'my_database',user=\"root\", passwd=\"very_strong_password\",use_pure=True)\n",
    "    query = \"Select * from mytable;\"\n",
    "    result_dataFrame = pd.read_sql(query,mydb)\n",
    "    mydb.close() #close the connection\n",
    "except Exception as e:\n",
    "    mydb.close()\n",
    "    print(str(e))"
   ]
  },
  {
   "cell_type": "code",
   "execution_count": null,
   "id": "191d2312-3900-4a9b-8e51-c712d27b9d13",
   "metadata": {},
   "outputs": [],
   "source": [
    "df = result_dataFrame[result_dataFrame['station'] == 'ISE00105694'].copy()\n",
    "df"
   ]
  },
  {
   "cell_type": "code",
   "execution_count": null,
   "id": "6e543cdc-b6d5-460f-ab94-7bd57d2756e2",
   "metadata": {},
   "outputs": [],
   "source": [
    "import plotly.express as px\n",
    "import plotly.offline as pyo\n",
    "import plotly.graph_objs as go\n",
    "# Set notebook mode to work in offline\n",
    "pyo.init_notebook_mode()\n",
    "import plotly.io as pio\n",
    "pio.renderers.default = 'iframe'\n",
    "# plotting TMAX vs. TMIN with respect to precipitation and temperature by year\n",
    "img1 = px.scatter(data_frame = df,\n",
    "                  x = 'tmax',\n",
    "                  y = 'tmin',\n",
    "                  color = df.index,\n",
    "                  width = 700,\n",
    "                  height = 600,\n",
    "                  title = \"Average TMAX vs TMIN per Year\")\n",
    "\n",
    "img1.update_traces(marker={'size': 15})\n",
    "img1.update_layout(xaxis = dict(title = 'TMAX (°C)'),\n",
    "                   yaxis = dict(title = 'TMIN (°C)'))\n",
    "img1.show()"
   ]
  },
  {
   "cell_type": "code",
   "execution_count": null,
   "id": "1b42b442-2dd3-4092-a1af-2f44012c09e9",
   "metadata": {},
   "outputs": [],
   "source": []
  }
 ],
 "metadata": {
  "kernelspec": {
   "display_name": "Python 3 (ipykernel)",
   "language": "python",
   "name": "python3"
  },
  "language_info": {
   "codemirror_mode": {
    "name": "ipython",
    "version": 3
   },
   "file_extension": ".py",
   "mimetype": "text/x-python",
   "name": "python",
   "nbconvert_exporter": "python",
   "pygments_lexer": "ipython3",
   "version": "3.11.5"
  }
 },
 "nbformat": 4,
 "nbformat_minor": 5
}
